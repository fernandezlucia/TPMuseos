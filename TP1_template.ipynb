{
 "cells": [
  {
   "cell_type": "code",
   "execution_count": 171,
   "metadata": {},
   "outputs": [],
   "source": [
    "# Carga de paquetes necesarios para graficar\n",
    "import numpy as np\n",
    "import matplotlib.pyplot as plt\n",
    "import pandas as pd # Para leer archivos\n",
    "import geopandas as gpd # Para hacer cosas geográficas\n",
    "import seaborn as sns # Para hacer plots lindos\n",
    "import networkx as nx # Construcción de la red en NetworkX\n",
    "import scipy\n"
   ]
  },
  {
   "cell_type": "markdown",
   "metadata": {},
   "source": [
    "# Preambulo\n",
    "\n",
    "En esta sección cargamos los datos y los visualizamos. También construimos la matriz de adyacencia de la red de museos."
   ]
  },
  {
   "cell_type": "markdown",
   "metadata": {},
   "source": [
    "## Carga de datos de los museos\n",
    "\n",
    "El listado de los museos, con el que se construye el [mapa](https://mapas.museosabiertos.org/museos/caba/), lo podemos encontrar [acá](https://github.com/MuseosAbiertos/Leaflet-museums-OpenStreetMap/blob/principal/data/export.geojson?short_path=bc357f3). También descargamos los barrios de CABA como complemento para los gráficos."
   ]
  },
  {
   "cell_type": "code",
   "execution_count": 172,
   "metadata": {},
   "outputs": [],
   "source": [
    "# Leemos el archivo, retenemos aquellos museos que están en CABA, y descartamos aquellos que no tienen latitud y longitud\n",
    "museos = gpd.read_file('https://raw.githubusercontent.com/MuseosAbiertos/Leaflet-museums-OpenStreetMap/refs/heads/principal/data/export.geojson')\n",
    "barrios = gpd.read_file('https://cdn.buenosaires.gob.ar/datosabiertos/datasets/ministerio-de-educacion/barrios/barrios.geojson')"
   ]
  },
  {
   "cell_type": "markdown",
   "metadata": {},
   "source": [
    "## Visualización"
   ]
  },
  {
   "cell_type": "code",
   "execution_count": 173,
   "metadata": {},
   "outputs": [],
   "source": [
    "# Armamos el gráfico para visualizar los museos\n",
    "fig, ax = plt.subplots(figsize=(10, 10))\n",
    "barrios.boundary.plot(color='gray',ax=ax)\n",
    "museos.plot(ax=ax)"
   ]
  },
  {
   "cell_type": "markdown",
   "metadata": {},
   "source": [
    "## Cálculo de la matriz de distancias\n",
    "\n",
    "Ahora construimos la matriz de distancias entre todos los museos. Como la tierra es un [geoide](https://es.wikipedia.org/wiki/Geoide) (es decir que no es [plana](https://es.wikipedia.org/wiki/Terraplanismo)), el cálculo de distancias no es una operación obvia. Una opción es proyectar a un [sistema de coordenadas local](https://geopandas.org/en/stable/docs/user_guide/projections.html), de forma tal que las distancias euclideas se correspondan con las distancias en metros. En este notebook usamos [EPSG](https://en.wikipedia.org/wiki/EPSG_Geodetic_Parameter_Dataset) 22184. "
   ]
  },
  {
   "cell_type": "code",
   "execution_count": 174,
   "metadata": {},
   "outputs": [],
   "source": [
    "# En esta línea:\n",
    "# Tomamos museos, lo convertimos al sistema de coordenadas de interés, extraemos su geometría (los puntos del mapa), \n",
    "# calculamos sus distancias a los otros puntos de df, redondeamos (obteniendo distancia en metros), y lo convertimos a un array 2D de numpy\n",
    "D = museos.to_crs(\"EPSG:22184\").geometry.apply(lambda g: museos.to_crs(\"EPSG:22184\").distance(g)).round().to_numpy()\n"
   ]
  },
  {
   "cell_type": "markdown",
   "metadata": {},
   "source": [
    "### Matriz de adyacencia: construimos una matriz conectando a cada museo con los $m$ más cercanos"
   ]
  },
  {
   "cell_type": "code",
   "execution_count": 187,
   "metadata": {},
   "outputs": [],
   "source": [
    "def construye_adyacencia(D,m): \n",
    "    # Función que construye la matriz de adyacencia del grafo de museos\n",
    "    # D matriz de distancias, m cantidad de links por nodo\n",
    "    # Retorna la matriz de adyacencia como un numpy.\n",
    "    D = D.copy()\n",
    "    l = [] # Lista para guardar las filas\n",
    "    for fila in D: # recorriendo las filas, anexamos vectores lógicos\n",
    "        l.append(fila <= fila[np.argsort(fila)[m]] )\n",
    "    A = np.asarray(l).astype(int) # Convertimos a entero\n",
    "    np.fill_diagonal(A,0) # Borramos diagonal para eliminar autolinks\n",
    "    return(A)\n",
    "\n",
    "m = 3 # Cantidad de links por nodo\n",
    "A = construye_adyacencia(D,m)"
   ]
  },
  {
   "cell_type": "markdown",
   "metadata": {},
   "source": [
    "## Construcción de la red en NetworkX (sólo para las visualizaciones)"
   ]
  },
  {
   "cell_type": "code",
   "execution_count": 188,
   "metadata": {},
   "outputs": [],
   "source": [
    "G = nx.from_numpy_array(A) # Construimos la red a partir de la matriz de adyacencia\n",
    "# Construimos un layout a partir de las coordenadas geográficas\n",
    "G_layout = {i:v for i,v in enumerate(zip(museos.to_crs(\"EPSG:22184\").get_coordinates()['x'],museos.to_crs(\"EPSG:22184\").get_coordinates()['y']))}"
   ]
  },
  {
   "cell_type": "code",
   "execution_count": 189,
   "metadata": {},
   "outputs": [],
   "source": [
    "fig, ax = plt.subplots(figsize=(15, 15)) # Visualización de la red en el mapa\n",
    "barrios.to_crs(\"EPSG:22184\").boundary.plot(color='gray',ax=ax) # Graficamos Los barrios\n",
    "nx.draw_networkx(G,G_layout,ax=ax) # Graficamos los museos"
   ]
  },
  {
   "cell_type": "markdown",
   "metadata": {},
   "source": [
    "# Resolución del TP\n",
    "\n",
    "Aquí empieza la aventura... ¡diviertanse y consulten lo que necesiten!"
   ]
  },
  {
   "cell_type": "markdown",
   "metadata": {},
   "source": [
    "## Punto 1: Partiendo de la ecuacion 3, muestre que el vector de rankings p es solucion de la ecuacion\n",
    "Mp = b, con M = (N/α)(I − (1 − α)C) y b = 1.\n",
    "\n",
    "Ecuacion 3: p = (1 − α) C p + (α/N)(1). \n",
    "Queremos ver que el vector de rankings anterior p es solucion de la ecuacion Mp = b con M = (N/α)(I − (1 − α)C) y b = 1.\n",
    "\n",
    "Si partimos de la ecuacion de p tenemos: \n",
    "                       p = (1 − α) C p + (α/N)(1)   \n",
    "        p - (1 − α) C p  = (α/N)(1) \n",
    "         (I - (1 - α)C)p = (α/N)(1) \n",
    "    (N/α)(I - (1 - α)C)p = (α/N)(1)(N/α)\n",
    "    (N/α)(I - (1 - α)C)p = (1) \n",
    "                      Mp = b\n",
    "\n",
    "Luego el vector p es solucion de la ecuacion Mp = b"
   ]
  },
  {
   "cell_type": "markdown",
   "metadata": {},
   "source": [
    "            2. ¿Que condiciones se deben cumplir para que exista una unica solucion a la ecuacion del\n",
    "            punto anterior? ¿Se cumplen estas condiciones para la matriz M tal como fue construida\n",
    "            para los museos, cuando 0 < α < 1? Demuestre que se cumplen o de un contraejemplo.\n",
    "\n",
    "Para que la ecuacion Mp = b tenga una unica solucion la matriz M = (N/α)(I − (1 − α)C) debe ser inversible y para que esto ocurra la matriz C debe serlo dado que I es inversible y (N/α) y (1 − α) no influyen en la inversibilidad.\n",
    "Sabemos que C es la matriz de Transiciones C = AtK(-1) donde A es la matriz de adyacencias entre museos y K es la matriz de probabilidad de ir desde el museo i al j. \n",
    "\n",
    "Analizamos A:\n",
    "    La matriz A esta determinada por el parametro m que es la cantidad de museos mas cercanos que tomamos en cuenta a la hora  de ir de un museo a otro. Las columnas de A (las filas de At) representan los museos que tienen cerca a un museo i. "
   ]
  },
  {
   "cell_type": "markdown",
   "metadata": {},
   "source": [
    "## Punto 2:\n"
   ]
  },
  {
   "cell_type": "code",
   "execution_count": 178,
   "metadata": {},
   "outputs": [],
   "source": [
    "def calculaLU(matriz):\n",
    "    U = np.copy(matriz)\n",
    "    L = np.zeros_like(matriz)\n",
    "\n",
    "    for fila in range(len(matriz)):\n",
    "        for col in range(fila+1, len(matriz)):\n",
    "            coeficiente = U[col][fila] / U[fila][fila]\n",
    "            L[col][fila] = coeficiente\n",
    "            for k in range(fila, len(matriz)):\n",
    "                U[col][k] -= coeficiente * U[fila][k]\n",
    "\n",
    "    for i in range(len(matriz)):\n",
    "        L[i][i] = 1\n",
    "    return L, U"
   ]
  },
  {
   "cell_type": "code",
   "execution_count": 179,
   "metadata": {},
   "outputs": [],
   "source": [
    "def calcula_matriz_C(A): \n",
    "    suma_col = np.sum(A, axis = 1)\n",
    "    K = np.diag(suma_col)\n",
    "    n = A.shape[0]\n",
    "    Kinv = np.zeros((n, n))\n",
    "    for i in range(n):\n",
    "        if K[i, i] != 0:\n",
    "            Kinv[i, i] = 1.0 / K[i, i] # Calcula inversa de la matriz K, que tiene en su diagonal la suma por filas de A traspuesta\n",
    "    C = A.T @ Kinv  # Calcula C multiplicando Kinv y A\n",
    "\n",
    "    return C"
   ]
  },
  {
   "cell_type": "code",
   "execution_count": 180,
   "metadata": {},
   "outputs": [],
   "source": [
    "def punto_tres(m, alpha):\n",
    "    A = construye_adyacencia(D,m)\n",
    "    C = calcula_matriz_C(A)\n",
    "    N = C.shape[0]\n",
    "    b = np.ones(N)\n",
    "    M = (N / alpha) * (np.identity(N) - (1-alpha) * C)\n",
    "\n",
    "    L, U = calculaLU(M)\n",
    "\n",
    "    y = scipy.linalg.solve_triangular(L, b, lower=True)\n",
    "    p = scipy.linalg.solve_triangular(U, y, lower=False)\n",
    "\n",
    "    return p\n"
   ]
  },
  {
   "cell_type": "code",
   "execution_count": 181,
   "metadata": {},
   "outputs": [],
   "source": [
    "p = punto_tres(m=5, alpha=1/5)\n",
    "invertido = np.argsort(p)[::-1]\n",
    "print(\"1 puesto: \",museos.iloc[invertido[0]]['name'])\n",
    "print(\"2 puesto: \",museos.iloc[invertido[1]]['name'])\n",
    "print(\"3 puesto: \",museos.iloc[invertido[2]]['name'])\n"
   ]
  },
  {
   "cell_type": "code",
   "execution_count": 182,
   "metadata": {},
   "outputs": [],
   "source": [
    "valores = []\n",
    "for m in [1, 3, 5, 10]:\n",
    "    print(\"--------\", m, \"--------\")\n",
    "    p = punto_tres(m=m, alpha=1/5)\n",
    "    masImportantes = np.argsort(p)[::-1][:3]\n",
    "\n",
    "    for pos, idx in enumerate(masImportantes):\n",
    "        valores.append({\n",
    "            \"m\": m,\n",
    "            \"rank\": pos,\n",
    "            \"museo\": museos.iloc[idx]['name'],\n",
    "            \"puntaje\": p[idx]\n",
    "        })\n",
    "\n",
    "df = pd.DataFrame(valores)"
   ]
  },
  {
   "cell_type": "code",
   "execution_count": 183,
   "metadata": {},
   "outputs": [],
   "source": [
    "plt.figure(figsize=(10, 6))\n",
    "for museo, puntaje in df.groupby(\"museo\"):\n",
    "    plt.plot(puntaje[\"m\"], puntaje[\"puntaje\"], \n",
    "             label=museo, marker=\"o\")\n",
    "plt.xticks([1,3,5,10])\n",
    "plt.legend()\n",
    "plt.show()\n"
   ]
  },
  {
   "cell_type": "code",
   "execution_count": 184,
   "metadata": {},
   "outputs": [],
   "source": [
    "valores2 = []\n",
    "for alpha in [6/7, 4/5, 2/3, 1/2, 1/3, 1/5, 1/7]:\n",
    "    print(\"--------\", alpha, \"--------\")\n",
    "    p = punto_tres(m=5, alpha=alpha)\n",
    "    masImportantes = np.argsort(p)[::-1][:3]\n",
    "\n",
    "    for pos, idx in enumerate(masImportantes):\n",
    "        valores2.append({\n",
    "            \"alpha\": alpha,\n",
    "            \"rank\": pos,\n",
    "            \"museo\": museos.iloc[idx]['name'],\n",
    "            \"puntaje\": p[idx]\n",
    "        })\n",
    "\n",
    "df2 = pd.DataFrame(valores2)"
   ]
  },
  {
   "cell_type": "code",
   "execution_count": 185,
   "metadata": {},
   "outputs": [],
   "source": [
    "plt.figure(figsize=(10, 6))\n",
    "for museo, puntaje in df2.groupby(\"museo\"):\n",
    "    plt.plot(puntaje[\"alpha\"], puntaje[\"puntaje\"], \n",
    "             label=museo, marker=\"o\")\n",
    "plt.xticks([6/7, 4/5, 2/3, 1/2, 1/3, 1/5, 1/7],\n",
    "           [\"6/7\", \"4/5\", \"2/3\", \"1/2\", \"1/3\", \"1/5\", \"1/7\"])\n",
    "\n",
    "plt.legend()\n",
    "plt.show()"
   ]
  },
  {
   "cell_type": "markdown",
   "metadata": {},
   "source": [
    "## Punto 3:\n"
   ]
  },
  {
   "cell_type": "markdown",
   "metadata": {},
   "source": [
    "## Punto 4:"
   ]
  },
  {
   "cell_type": "markdown",
   "metadata": {},
   "source": [
    "## Punto 5:"
   ]
  },
  {
   "cell_type": "markdown",
   "metadata": {},
   "source": [
    "## Punto 6:"
   ]
  },
  {
   "cell_type": "markdown",
   "metadata": {},
   "source": [
    "# Extras\n",
    "\n",
    "Para graficar la red con un conjunto de puntajes (como el Page Rank)"
   ]
  },
  {
   "cell_type": "code",
   "execution_count": 192,
   "metadata": {},
   "outputs": [],
   "source": [
    "factor_escala = 1e4 # Escalamos los nodos 10 mil veces para que sean bien visibles\n",
    "fig, ax = plt.subplots(figsize=(10, 10)) # Visualización de la red en el mapa\n",
    "barrios.to_crs(\"EPSG:22184\").boundary.plot(color='gray',ax=ax) # Graficamos Los barrios\n",
    "pr = punto_tres(m=m, alpha=1/5)# Este va a ser su score Page Rank. Ahora lo reemplazamos con un vector al azar\n",
    "pr = pr/pr.sum() # Normalizamos para que sume 1\n",
    "Nprincipales = 5 # Cantidad de principales\n",
    "principales = np.argsort(pr)[-Nprincipales:] # Identificamos a los N principales\n",
    "labels = {n: str(n) if i in principales else \"\" for i, n in enumerate(G.nodes)} # Nombres para esos nodos\n",
    "nx.draw_networkx(G,G_layout,node_size = pr*factor_escala, ax=ax,with_labels=False) # Graficamos red\n",
    "nx.draw_networkx_labels(G, G_layout, labels=labels, font_size=6, font_color=\"k\") # Agregamos los nombres"
   ]
  }
 ],
 "metadata": {
  "kernelspec": {
   "display_name": "Python 3",
   "language": "python",
   "name": "python3"
  },
  "language_info": {
   "codemirror_mode": {
    "name": "ipython",
    "version": 3
   },
   "file_extension": ".py",
   "mimetype": "text/x-python",
   "name": "python",
   "nbconvert_exporter": "python",
   "pygments_lexer": "ipython3",
   "version": "3.10.12"
  }
 },
 "nbformat": 4,
 "nbformat_minor": 2
}
